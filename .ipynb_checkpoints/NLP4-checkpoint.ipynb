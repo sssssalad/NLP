{
 "cells": [
  {
   "cell_type": "markdown",
   "metadata": {},
   "source": [
    "配置"
   ]
  },
  {
   "cell_type": "code",
   "execution_count": null,
   "metadata": {},
   "outputs": [],
   "source": [
    "from transformers import BertConfig#自定义 Bert 模型的结构，\n",
    "# 利用大规模无标注语料训练、获得文本的包含丰富语义信息的Representation即文本的语义表示\n",
    "\n",
    "class Model_config(BertConfig):\n",
    "\n",
    "    @classmethod\n",
    "    def loads(cls, model_config_path):\n",
    "\n",
    "        model_config = cls.from_pretrained(model_config_path)\n",
    "\n",
    "        model_config.dataset_name = \"BC5CDR\"\n",
    "\n",
    "        model_config.dataset_type = []#定义数据集类型为数组\n",
    "        model_config.max_sen_len = 128\n",
    "        model_config.batch_size = 32#设置CNN（卷积神经网络）样本处理时被分成的大小\n",
    "        model_config.id2label = {}\n",
    "        model_config.label2id = {}\n",
    "        model_config.num_label = 0\n",
    "        model_config.dropout = 0.2\n",
    "        model_config.num_train_epochs = 50\n",
    "        model_config.device = 'cpu'\n",
    "        model_config.optim = \"AdamW\"\n",
    "        model_config.lr = 5e-5\n",
    "        model_config.weight_decay = 5e-5\n",
    "        model_config.seed = 2021\n",
    "\n",
    "        model_config.output_dir = '../server/fine_tune_model'\n",
    "        model_config.datasets_dir = '../../data/datasets/data_preprocess/iob_data'\n",
    "\n",
    "\n",
    "        return model_config\n"
   ]
  },
  {
   "cell_type": "markdown",
   "metadata": {},
   "source": [
    "CNN（卷积神经网络）常见到的Epoch，iteration和batch_size一起介绍一下吧Epoch， Batch Size 和 Iteration\n",
    "\n",
    "举个例子：将10kg的面粉使用面条加工机(每次只能处理2kg)，加工成10kg的面条。\n",
    "首先得把10kg面粉分成5份2kg的面粉，然后放入机器加工，经过5次，可以将这10kg面粉首次加工成面条，\n",
    "但是现在的面条肯定不好吃，因为不劲道，\n",
    "于是把10kg面条又放进机器再加工一遍，还是每次只处理2kg，处理5次，现在感觉还行，但是不够完美；\n",
    "于是又重复了一遍：将10kg上次加工好的面条又放进机器，每次2kg，加工5次，最终成型了，完美了，结束了。\n",
    "那么到底重复加工几次呢？只有有经验的师傅才知道。\n",
    "\n",
    "这就形象地说明：Epoch就是10斤面粉被加工的次数（上面的3次）；\n",
    "Batch Size就是每份的数量（上面的2kg），\n",
    "Iteration就是将10kg面粉加工完一次所使用的循环次数（上面的5次）。\n",
    " 1个epoch  = BatchSize * Iteration\n"
   ]
  }
 ],
 "metadata": {
  "kernelspec": {
   "display_name": "Python 3",
   "language": "python",
   "name": "python3"
  },
  "language_info": {
   "codemirror_mode": {
    "name": "ipython",
    "version": 3
   },
   "file_extension": ".py",
   "mimetype": "text/x-python",
   "name": "python",
   "nbconvert_exporter": "python",
   "pygments_lexer": "ipython3",
   "version": "3.7.0"
  }
 },
 "nbformat": 4,
 "nbformat_minor": 2
}
