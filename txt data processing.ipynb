{
 "cells": [
  {
   "cell_type": "code",
   "execution_count": 161,
   "metadata": {},
   "outputs": [],
   "source": [
    "import pandas as pd#\n",
    "import numpy as np\n",
    "import os\n",
    "import glob\n",
    "import re#正则表达式库\n",
    "from sklearn import metrics"
   ]
  },
  {
   "cell_type": "code",
   "execution_count": 162,
   "metadata": {},
   "outputs": [
    {
     "data": {
      "text/plain": [
       "'C:\\\\Users\\\\坏坏\\\\wenben'"
      ]
     },
     "execution_count": 162,
     "metadata": {},
     "output_type": "execute_result"
    }
   ],
   "source": [
    "os.getcwd()#查看当前工作目录"
   ]
  },
  {
   "cell_type": "code",
   "execution_count": 163,
   "metadata": {},
   "outputs": [],
   "source": [
    "os.chdir('C:\\\\Users\\\\坏坏\\\\wenben') #将当前工作目录切换到指定路径"
   ]
  },
  {
   "cell_type": "code",
   "execution_count": 164,
   "metadata": {},
   "outputs": [],
   "source": [
    "path='C:\\\\Users\\\\坏坏\\\\wenben'#指定文件夹"
   ]
  },
  {
   "cell_type": "code",
   "execution_count": 165,
   "metadata": {},
   "outputs": [
    {
     "data": {
      "text/plain": [
       "['data.txt']"
      ]
     },
     "execution_count": 165,
     "metadata": {},
     "output_type": "execute_result"
    }
   ],
   "source": [
    "os.listdir(path)#查看指定文件夹包含的文件或文件夹的名字列表"
   ]
  },
  {
   "cell_type": "code",
   "execution_count": 166,
   "metadata": {},
   "outputs": [],
   "source": [
    "file_name = \"data.txt\""
   ]
  },
  {
   "cell_type": "code",
   "execution_count": 167,
   "metadata": {},
   "outputs": [],
   "source": [
    "f = open(\"data.txt\",\"r\")#以以只读方式打开文件"
   ]
  },
  {
   "cell_type": "code",
   "execution_count": 168,
   "metadata": {},
   "outputs": [
    {
     "data": {
      "text/plain": [
       "\"Less Pressure, Better Life\\n\\u3000\\u3000Recently, my brother's friend was found in a strange city by his father. The boy was in his second year of college, but he disappeared on his way home of the train. All his families felt so sad and his father kept searching him for more than three months, finally he was found. People thought he was kidnapped, but he told the truth that he made the decision, because he felt great pressure and just wanted to run away. Everybody will need to face pressure, from study or work, but we can't just run away. We can choose to face it with right attitude. Don't be so hard on yourself. With less expectation and pressure, life will be much easier. When you learn to deal with pressure, you have grown up.\\n\""
      ]
     },
     "execution_count": 168,
     "metadata": {},
     "output_type": "execute_result"
    }
   ],
   "source": [
    "f.read() #读出文件内容"
   ]
  },
  {
   "cell_type": "code",
   "execution_count": 169,
   "metadata": {},
   "outputs": [
    {
     "name": "stdout",
     "output_type": "stream",
     "text": [
      "<class 'str'>\n"
     ]
    }
   ],
   "source": [
    "file_path = (\"data.txt\")\n",
    "with open(file_path,'r') as f:\n",
    "    file = f.read()\n",
    "print(type(file))"
   ]
  },
  {
   "cell_type": "code",
   "execution_count": 170,
   "metadata": {},
   "outputs": [],
   "source": [
    "import collections# 词频统计库\n",
    "new_file = re.sub(r'[^A-Za-z]', ' ', file)  #使用正则表达式把除了字母和空格以外的符号都去除\n",
    "words = new_file.split( )#把所有单词储存在words变量中（list类型）\n",
    "word_counts = {}#dict类型变量，以单词作为key值，单词出现的次数作为value值"
   ]
  },
  {
   "cell_type": "code",
   "execution_count": 171,
   "metadata": {},
   "outputs": [],
   "source": [
    "remove_words = ['is', 'my', 'was', 'a', 'he', 'that','from','be','to','we','a','all','s','with','and','t','because','by','can','don','for','have','him','in','it','just','of','on','or','so','t','the','you','yourself','will'] # 自定义去除词库"
   ]
  },
  {
   "cell_type": "code",
   "execution_count": 172,
   "metadata": {},
   "outputs": [],
   "source": [
    "for word in words:#用in判断单词是否存在word_counts中，循环读出每个分词\n",
    "    if word not in remove_words:#如果不在去除词库中\n",
    "        if word.lower() in word_counts:#str.lower()转换所有大写字母为小写\n",
    "            word_counts[word.lower()] = word_counts[word.lower()] + 1 #存在时value+1\n",
    "        else:\n",
    "            word_counts[word.lower()] = 1"
   ]
  },
  {
   "cell_type": "code",
   "execution_count": 173,
   "metadata": {},
   "outputs": [],
   "source": [
    "key_list = list(word_counts.keys())#dict.keys()返回一个字典所有的键\n",
    "key_list.sort()#以字母顺序对列表进行排序"
   ]
  },
  {
   "cell_type": "code",
   "execution_count": 174,
   "metadata": {},
   "outputs": [
    {
     "name": "stdout",
     "output_type": "stream",
     "text": [
      "all:1\n",
      "attitude:1\n",
      "away:2\n",
      "better:1\n",
      "boy:1\n",
      "brother:1\n",
      "but:3\n",
      "choose:1\n",
      "city:1\n",
      "college:1\n",
      "deal:1\n",
      "decision:1\n",
      "disappeared:1\n",
      "don:1\n",
      "easier:1\n",
      "everybody:1\n",
      "expectation:1\n",
      "face:2\n",
      "families:1\n",
      "father:2\n",
      "felt:2\n",
      "finally:1\n",
      "found:2\n",
      "friend:1\n",
      "great:1\n",
      "grown:1\n",
      "hard:1\n",
      "his:5\n",
      "home:1\n",
      "kept:1\n",
      "kidnapped:1\n",
      "learn:1\n",
      "less:2\n",
      "life:2\n",
      "made:1\n",
      "months:1\n",
      "more:1\n",
      "much:1\n",
      "need:1\n",
      "people:1\n",
      "pressure:5\n",
      "recently:1\n",
      "right:1\n",
      "run:2\n",
      "sad:1\n",
      "searching:1\n",
      "second:1\n",
      "strange:1\n",
      "study:1\n",
      "than:1\n",
      "the:1\n",
      "thought:1\n",
      "three:1\n",
      "told:1\n",
      "train:1\n",
      "truth:1\n",
      "up:1\n",
      "wanted:1\n",
      "way:1\n",
      "we:1\n",
      "when:1\n",
      "with:1\n",
      "work:1\n",
      "year:1\n"
     ]
    }
   ],
   "source": [
    "for key in key_list:\n",
    "    if word_counts[key] >= 1:\n",
    "        print(\"{}:{}\".format(key,word_counts[key]))#str.format()格式化字符串的函数 "
   ]
  },
  {
   "cell_type": "code",
   "execution_count": 117,
   "metadata": {},
   "outputs": [
    {
     "name": "stdout",
     "output_type": "stream",
     "text": [
      "['Less', 'Pressure,', 'Better', 'Life', 'Recently,', 'my', \"brother's\", 'friend', 'was', 'found', 'in', 'a', 'strange', 'city', 'by', 'his', 'father.', 'The', 'boy', 'was', 'in', 'his', 'second', 'year', 'of', 'college,', 'but', 'he', 'disappeared', 'on', 'his', 'way', 'home', 'of', 'the', 'train.', 'All', 'his', 'families', 'felt', 'so', 'sad', 'and', 'his', 'father', 'kept', 'searching', 'him', 'for', 'more', 'than', 'three', 'months,', 'finally', 'he', 'was', 'found.', 'People', 'thought', 'he', 'was', 'kidnapped,', 'but', 'he', 'told', 'the', 'truth', 'that', 'he', 'made', 'the', 'decision,', 'because', 'he', 'felt', 'great', 'pressure', 'and', 'just', 'wanted', 'to', 'run', 'away.', 'Everybody', 'will', 'need', 'to', 'face', 'pressure,', 'from', 'study', 'or', 'work,', 'but', 'we', \"can't\", 'just', 'run', 'away.', 'We', 'can', 'choose', 'to', 'face', 'it', 'with', 'right', 'attitude.', \"Don't\", 'be', 'so', 'hard', 'on', 'yourself.', 'With', 'less', 'expectation', 'and', 'pressure,', 'life', 'will', 'be', 'much', 'easier.', 'When', 'you', 'learn', 'to', 'deal', 'with', 'pressure,', 'you', 'have', 'grown', 'up.']\n"
     ]
    }
   ],
   "source": [
    "a = file.split()\n",
    "print(a)"
   ]
  },
  {
   "cell_type": "code",
   "execution_count": 115,
   "metadata": {},
   "outputs": [
    {
     "data": {
      "text/plain": [
       "135"
      ]
     },
     "execution_count": 115,
     "metadata": {},
     "output_type": "execute_result"
    }
   ],
   "source": [
    "len(a)"
   ]
  },
  {
   "cell_type": "code",
   "execution_count": 41,
   "metadata": {},
   "outputs": [
    {
     "name": "stdout",
     "output_type": "stream",
     "text": [
      "[['Less']\n",
      " ['Pressure,']\n",
      " ['Better']\n",
      " ['Life']\n",
      " ['Recently,']\n",
      " ['my']\n",
      " [\"brother's\"]\n",
      " ['friend']\n",
      " ['was']\n",
      " ['found']\n",
      " ['in']\n",
      " ['a']\n",
      " ['strange']\n",
      " ['city']\n",
      " ['by']\n",
      " ['his']\n",
      " ['father.']\n",
      " ['The']\n",
      " ['boy']\n",
      " ['was']\n",
      " ['in']\n",
      " ['his']\n",
      " ['second']\n",
      " ['year']\n",
      " ['of']\n",
      " ['college,']\n",
      " ['but']\n",
      " ['he']\n",
      " ['disappeared']\n",
      " ['on']\n",
      " ['his']\n",
      " ['way']\n",
      " ['home']\n",
      " ['of']\n",
      " ['the']\n",
      " ['train.']\n",
      " ['All']\n",
      " ['his']\n",
      " ['families']\n",
      " ['felt']\n",
      " ['so']\n",
      " ['sad']\n",
      " ['and']\n",
      " ['his']\n",
      " ['father']\n",
      " ['kept']\n",
      " ['searching']\n",
      " ['him']\n",
      " ['for']\n",
      " ['more']\n",
      " ['than']\n",
      " ['three']\n",
      " ['months,']\n",
      " ['finally']\n",
      " ['he']\n",
      " ['was']\n",
      " ['found.']\n",
      " ['People']\n",
      " ['thought']\n",
      " ['he']\n",
      " ['was']\n",
      " ['kidnapped,']\n",
      " ['but']\n",
      " ['he']\n",
      " ['told']\n",
      " ['the']\n",
      " ['truth']\n",
      " ['that']\n",
      " ['he']\n",
      " ['made']\n",
      " ['the']\n",
      " ['decision,']\n",
      " ['because']\n",
      " ['he']\n",
      " ['felt']\n",
      " ['great']\n",
      " ['pressure']\n",
      " ['and']\n",
      " ['just']\n",
      " ['wanted']\n",
      " ['to']\n",
      " ['run']\n",
      " ['away.']\n",
      " ['Everybody']\n",
      " ['will']\n",
      " ['need']\n",
      " ['to']\n",
      " ['face']\n",
      " ['pressure,']\n",
      " ['from']\n",
      " ['study']\n",
      " ['or']\n",
      " ['work,']\n",
      " ['but']\n",
      " ['we']\n",
      " [\"can't\"]\n",
      " ['just']\n",
      " ['run']\n",
      " ['away.']\n",
      " ['We']\n",
      " ['can']\n",
      " ['choose']\n",
      " ['to']\n",
      " ['face']\n",
      " ['it']\n",
      " ['with']\n",
      " ['right']\n",
      " ['attitude.']\n",
      " [\"Don't\"]\n",
      " ['be']\n",
      " ['so']\n",
      " ['hard']\n",
      " ['on']\n",
      " ['yourself.']\n",
      " ['With']\n",
      " ['less']\n",
      " ['expectation']\n",
      " ['and']\n",
      " ['pressure,']\n",
      " ['life']\n",
      " ['will']\n",
      " ['be']\n",
      " ['much']\n",
      " ['easier.']\n",
      " ['When']\n",
      " ['you']\n",
      " ['learn']\n",
      " ['to']\n",
      " ['deal']\n",
      " ['with']\n",
      " ['pressure,']\n",
      " ['you']\n",
      " ['have']\n",
      " ['grown']\n",
      " ['up.']]\n"
     ]
    }
   ],
   "source": [
    "a = np.array(a)\n",
    "a = a.reshape(135,1)\n",
    "print(a)"
   ]
  },
  {
   "cell_type": "code",
   "execution_count": 42,
   "metadata": {},
   "outputs": [],
   "source": [
    "f.close()#配合f.close,关闭文件"
   ]
  }
 ],
 "metadata": {
  "kernelspec": {
   "display_name": "Python 3",
   "language": "python",
   "name": "python3"
  },
  "language_info": {
   "codemirror_mode": {
    "name": "ipython",
    "version": 3
   },
   "file_extension": ".py",
   "mimetype": "text/x-python",
   "name": "python",
   "nbconvert_exporter": "python",
   "pygments_lexer": "ipython3",
   "version": "3.7.0"
  }
 },
 "nbformat": 4,
 "nbformat_minor": 2
}
