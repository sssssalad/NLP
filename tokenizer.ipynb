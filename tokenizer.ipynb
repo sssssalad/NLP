{
 "cells": [
  {
   "cell_type": "code",
   "execution_count": 4,
   "metadata": {
    "ExecuteTime": {
     "end_time": "2021-12-03T11:44:36.089015Z",
     "start_time": "2021-12-03T11:44:34.957240Z"
    }
   },
   "outputs": [],
   "source": [
    "import jieba\n",
    "import gensim\n",
    "import pandas as pd#\n",
    "import numpy as np\n",
    "import glob\n",
    "import re#正则表达式库"
   ]
  },
  {
   "cell_type": "code",
   "execution_count": 10,
   "metadata": {
    "ExecuteTime": {
     "end_time": "2021-12-03T11:47:04.581348Z",
     "start_time": "2021-12-03T11:47:04.524344Z"
    }
   },
   "outputs": [],
   "source": [
    "#分词并获取词袋函数（为每个出现在语料库中的单词分配一个独一无二的整数编号ID）\n",
    "#string=['少年强则国强','少年强大则国家强大','少年智则国智']\n",
    "#string=['傲游AI专注于游戏领域,多年的AI技术积淀,一站式提供文本、图片、\\\n",
    "#音/视频内容审核,游戏AI以及数据平台服务','傲游AI主营游戏领域产品,多年的AI技术沉淀,\\\n",
    "#一站式提供文本、图片、音视频内容审查,游戏AI以及数据服务','傲游AI专注于互联网娱乐领域,\\\n",
    "#多年的人工智能技术积淀,提供全产业链平台及数据服务']\n",
    "string=['少年强则国强','少年强大则国家强大','少年智则国智','国家强大则少年有为'\\\n",
    "    ,'青少年是祖国的花朵','阴雨天气则会导致运动会推迟','少年时祖国的花朵','中华民族期盼着祖国的强大']\n",
    "# with open(\"TestSet.DNorm.PubTator.txt\",'r') as f:\n",
    "#     string = f.read()\n",
    "# print(type(string))\n",
    "text_list=[]"
   ]
  },
  {
   "cell_type": "code",
   "execution_count": 11,
   "metadata": {
    "ExecuteTime": {
     "end_time": "2021-12-03T11:47:05.283262Z",
     "start_time": "2021-12-03T11:47:05.273744Z"
    }
   },
   "outputs": [],
   "source": [
    "###分词获取语料库\n",
    "for sentence in string:\n",
    "    s_list=[word for word in jieba.cut(sentence)]\n",
    "    text_list.append(s_list)"
   ]
  },
  {
   "cell_type": "code",
   "execution_count": 12,
   "metadata": {
    "ExecuteTime": {
     "end_time": "2021-12-03T11:47:06.114482Z",
     "start_time": "2021-12-03T11:47:06.104420Z"
    }
   },
   "outputs": [
    {
     "name": "stdout",
     "output_type": "stream",
     "text": [
      "Dictionary(25 unique tokens: ['国强', '少年', '强则', '则', '国家']...)\n",
      "{'国强': 0, '少年': 1, '强则': 2, '则': 3, '国家': 4, '强大': 5, '国智': 6, '智则': 7, '为': 8, '有': 9, '是': 10, '的': 11, '祖国': 12, '花朵': 13, '青少年': 14, '会': 15, '天气': 16, '导致': 17, '推迟': 18, '运动会': 19, '阴雨': 20, '时': 21, '中华民族': 22, '期盼': 23, '着': 24}\n"
     ]
    }
   ],
   "source": [
    "#####词典化\n",
    "dictionary=gensim.corpora.Dictionary(text_list)\n",
    "print(dictionary)\n",
    "print(dictionary.token2id)"
   ]
  },
  {
   "cell_type": "code",
   "execution_count": 13,
   "metadata": {
    "ExecuteTime": {
     "end_time": "2021-12-03T11:47:07.369993Z",
     "start_time": "2021-12-03T11:47:07.298576Z"
    }
   },
   "outputs": [
    {
     "name": "stdout",
     "output_type": "stream",
     "text": [
      "[[(0, 1), (1, 1), (2, 1)], [(1, 1), (3, 1), (4, 1), (5, 2)], [(1, 1), (6, 1), (7, 1)], [(1, 1), (3, 1), (4, 1), (5, 1), (8, 1), (9, 1)], [(10, 1), (11, 1), (12, 1), (13, 1), (14, 1)], [(3, 1), (15, 1), (16, 1), (17, 1), (18, 1), (19, 1), (20, 1)], [(1, 1), (11, 1), (12, 1), (13, 1), (21, 1)], [(5, 1), (11, 1), (12, 1), (22, 1), (23, 1), (24, 1)]]\n"
     ]
    }
   ],
   "source": [
    "#向量转换（对每个不同单词出现的次数进行计数并将单词转换为编号，以稀疏向量的形式返回结果）\n",
    "corpus=[dictionary.doc2bow(doc) for doc in text_list]\n",
    "print(corpus)"
   ]
  },
  {
   "cell_type": "code",
   "execution_count": 14,
   "metadata": {
    "ExecuteTime": {
     "end_time": "2021-12-03T11:47:08.548184Z",
     "start_time": "2021-12-03T11:47:08.538512Z"
    }
   },
   "outputs": [],
   "source": [
    "#测试字符串分词并获取词袋函数\n",
    "#test_string='傲游AI专注于游戏领域,多年的AI技术积淀,一站式提供文本、图片、音/视频内容审核,游戏AI以及数据平台服务'\n",
    "test_string1 = '少年强则国强'\n",
    "test_string2 = '少年强大则国家强大'\n",
    "test_string3 = '少年智则国智'"
   ]
  },
  {
   "cell_type": "code",
   "execution_count": 15,
   "metadata": {
    "ExecuteTime": {
     "end_time": "2021-12-03T11:47:09.534325Z",
     "start_time": "2021-12-03T11:47:09.524754Z"
    }
   },
   "outputs": [],
   "source": [
    "#test_string1 = '傲游AI专注于游戏领域,多年的AI技术积淀,一站式提供文本、图片、\\\n",
    "#音/视频内容审核,游戏AI以及数据平台服务'\n",
    "#test_string2 = '傲游AI主营游戏领域产品,多年的AI技术沉淀,\\\n",
    "#一站式提供文本、图片、音视频内容审查,游戏AI以及数据服务'\n",
    "#test_string3 = '傲游AI专注于互联网娱乐领域,\\\n",
    "#多年的人工智能技术积淀,提供全产业链平台及数据服务'\n",
    "test_doc_list1=[word for word in jieba.cut(test_string1)]\n",
    "test_doc_vec1=dictionary.doc2bow(test_doc_list1)\n",
    "test_doc_list2=[word for word in jieba.cut(test_string2)]\n",
    "test_doc_vec2=dictionary.doc2bow(test_doc_list2)\n",
    "test_doc_list3=[word for word in jieba.cut(test_string3)]\n",
    "test_doc_vec3=dictionary.doc2bow(test_doc_list3)"
   ]
  },
  {
   "cell_type": "code",
   "execution_count": 16,
   "metadata": {
    "ExecuteTime": {
     "end_time": "2021-12-03T11:47:10.629296Z",
     "start_time": "2021-12-03T11:47:10.619427Z"
    }
   },
   "outputs": [],
   "source": [
    "#使用tfidf模型对语料库建模\n",
    "tfidf=gensim.models.TfidfModel(corpus)"
   ]
  },
  {
   "cell_type": "code",
   "execution_count": 17,
   "metadata": {
    "ExecuteTime": {
     "end_time": "2021-12-03T11:47:11.537675Z",
     "start_time": "2021-12-03T11:47:11.528642Z"
    }
   },
   "outputs": [
    {
     "name": "stdout",
     "output_type": "stream",
     "text": [
      "[0.99999994 0.02813082 0.0249072  0.02080208 0.         0.\n",
      " 0.02560713 0.        ]\n",
      "[0.02813082 1.         0.02813082 0.5348422  0.         0.07033589\n",
      " 0.02892133 0.18323442]\n",
      "[0.0249072  0.02813082 0.99999994 0.02080208 0.         0.\n",
      " 0.02560713 0.        ]\n"
     ]
    }
   ],
   "source": [
    "#分析测试文档与已存在的每个训练样本的相似度\n",
    "index = gensim.similarities.SparseMatrixSimilarity(tfidf[corpus], num_features=len(dictionary.keys()))\n",
    "sim1=index[tfidf[test_doc_vec1]]\n",
    "sim2=index[tfidf[test_doc_vec2]]\n",
    "sim3=index[tfidf[test_doc_vec3]]\n",
    "print(sim1)\n",
    "print(sim2)\n",
    "print(sim3)"
   ]
  },
  {
   "cell_type": "code",
   "execution_count": null,
   "metadata": {},
   "outputs": [],
   "source": []
  },
  {
   "cell_type": "code",
   "execution_count": null,
   "metadata": {},
   "outputs": [],
   "source": []
  }
 ],
 "metadata": {
  "kernelspec": {
   "display_name": "Python 3",
   "language": "python",
   "name": "python3"
  },
  "language_info": {
   "codemirror_mode": {
    "name": "ipython",
    "version": 3
   },
   "file_extension": ".py",
   "mimetype": "text/x-python",
   "name": "python",
   "nbconvert_exporter": "python",
   "pygments_lexer": "ipython3",
   "version": "3.7.0"
  }
 },
 "nbformat": 4,
 "nbformat_minor": 2
}
